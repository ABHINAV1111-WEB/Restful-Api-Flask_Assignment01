{
  "nbformat": 4,
  "nbformat_minor": 0,
  "metadata": {
    "colab": {
      "provenance": []
    },
    "kernelspec": {
      "name": "python3",
      "display_name": "Python 3"
    },
    "language_info": {
      "name": "python"
    }
  },
  "cells": [
    {
      "cell_type": "markdown",
      "source": [
        "**1. What is a RESTful API?**\n",
        "\n",
        "**Ans:**\n",
        "A RESTful API (Representational State Transfer API) is a type of web API that follows a set of principles and constraints to enable communication between a client (such as a web browser or mobile app) and a server."
      ],
      "metadata": {
        "id": "WVuyjwFDXMgU"
      }
    },
    {
      "cell_type": "markdown",
      "source": [
        "**2. Explain the concept of API specification.**\n",
        "\n",
        "**Ans:**\n",
        "An API specification is a detailed, formal document that defines the structure, behavior, and rules of interaction for an API. It acts as a blueprint for how the API works, allowing developers to understand how to interact with it effectively.\n",
        "\n",
        "**Here’s what it typically includes:**\n",
        "\n",
        "Endpoints:\n",
        "\n",
        "The URL paths for accessing resources (e.g., /users, /orders).\n",
        "\n",
        "A description of what each endpoint does.\n",
        "\n",
        "HTTP Methods:\n",
        "\n",
        "Defines which HTTP methods can be used with each endpoint (e.g., GET, POST, PUT, DELETE).\n",
        "\n",
        "Request Parameters:\n",
        "\n",
        "Specifies the parameters that must or can be included in a request, such as:\n",
        "\n",
        "Path parameters (e.g., /{id} for a specific resource).\n",
        "\n",
        "Query parameters (e.g., ?filter=active).\n",
        "\n",
        "Headers (e.g., Authorization token).\n",
        "\n",
        "Request body (if needed).\n",
        "\n",
        "Response Format:\n",
        "\n",
        "Details the expected structure of the API’s response, often in JSON or XML.\n",
        "\n",
        "Specifies success (e.g., HTTP 200) and error (e.g., HTTP 404) response codes, along with their meanings.\n",
        "\n",
        "Authentication and Authorization:\n",
        "\n",
        "Outlines how the API secures access, such as through API keys, OAuth tokens, or JWTs (JSON Web Tokens)."
      ],
      "metadata": {
        "id": "R9_b4_KmXekk"
      }
    },
    {
      "cell_type": "markdown",
      "source": [
        "**3. What is Flask, and why is it popular for building APIs?**\n",
        "\n",
        "**Ans:**\n",
        "Flask is a lightweight web framework written in Python. It’s designed to simplify the process of building web applications, including APIs, by offering flexibility and minimalism. Flask is often described as a \"micro-framework\" because it keeps things simple and avoids unnecessary overhead."
      ],
      "metadata": {
        "id": "2j7Gd1wAYAlX"
      }
    },
    {
      "cell_type": "markdown",
      "source": [
        "**4. What is routing in Flask?**\n",
        "\n",
        "**Ans:**\n",
        "In Flask, routing is the process of mapping URL paths (web addresses) to specific Python functions that handle requests and return responses. It defines how users or clients interact with your web application or API."
      ],
      "metadata": {
        "id": "hZB9H9xjYRoY"
      }
    },
    {
      "cell_type": "markdown",
      "source": [
        "**5. How do you create a simple Flask application?**\n",
        "\n",
        "**Ans:**\n",
        "Step by step guide ti create simple Flask application:\n",
        "\n",
        "Step 1: Install Flask\n",
        "First, ensure Flask is installed.\n",
        "\n",
        "pip install flask\n",
        "\n",
        "Step 2: Create the Application\n",
        "Create a Python file (e.g., app.py).\n",
        "\n",
        "Import Flask and initialize the application:\n",
        "\n",
        "from flask import Flask\n",
        "\n",
        "app = Flask(__name__)  # Initialize the app\n",
        "\n",
        "Step 3: Define Routes\n",
        "Define routes using @app.route() to specify URLs and corresponding functions:\n",
        "@app.route('/')\n",
        "def home():\n",
        "    return \"Hello, Flask!\"\n",
        "\n",
        "Step 4: Run the Server\n",
        "Add a block to run the application when the file is executed:\n",
        "\n",
        "if __name__ == '__main__':\n",
        "    app.run(debug=True)\n"
      ],
      "metadata": {
        "id": "0G25R_1qYegF"
      }
    },
    {
      "cell_type": "markdown",
      "source": [
        "**6. What are HTTP methods used in RESTful APIs?**\n",
        "\n",
        "Ans:\n",
        "HTTP methods used in RESTful APIs:\n",
        "\n",
        "1. GET retrieves data.\n",
        "\n",
        "2. POST creates resources.\n",
        "\n",
        "3. PUT updates resources.\n",
        "\n",
        "4. partially updates resources.\n",
        "\n",
        "5. DELETE removes resources.\n",
        "\n",
        "6. HEAD retrieves headers.\n",
        "\n",
        "7. OPTIONS describes available actions."
      ],
      "metadata": {
        "id": "SIGjTAkqZ1ZW"
      }
    },
    {
      "cell_type": "markdown",
      "source": [
        "**7. What is the purpose of the @app.route() decorator in Flask?**\n",
        "\n",
        "Ans:\n",
        "The @app.route() decorator in Flask is used to define the routing of your application, linking specific URL paths to Python functions that handle the requests for those URLs. It essentially tells Flask, \"When a user accesses this URL, execute this function.\""
      ],
      "metadata": {
        "id": "Pz5mmRvaaiyX"
      }
    },
    {
      "cell_type": "markdown",
      "source": [
        "**8. What is the difference between GET and POST HTTP methods?**\n",
        "\n",
        "Ans:\n",
        "GET is used to retrieve data, sending parameters via the URL, and is suitable for simple, safe requests.\n",
        "\n",
        "POST is used to submit or send data, with parameters in the request body, making it ideal for secure and complex operations."
      ],
      "metadata": {
        "id": "ebXZd74VavRt"
      }
    },
    {
      "cell_type": "markdown",
      "source": [
        "**9. How do you handle errors in Flask APIs?**\n",
        "\n",
        "Ans:\n",
        "Ways to Handle Errors:\n",
        "HTTP Status Codes:\n",
        "\n",
        "Return appropriate status codes to indicate the outcome of a request (e.g., 404 Not Found, 500 Internal Server Error).\n",
        "\n",
        "try/except Blocks:\n",
        "\n",
        "Use try/except blocks in view functions to catch exceptions and return meaningful error messages.\n",
        "\n",
        "Custom Error Handlers:\n",
        "\n",
        "Define custom handlers for specific status codes using @app.errorhandler() to manage errors globally.\n",
        "\n",
        "Request Validation:\n",
        "\n",
        "Validate user input and ensure all required parameters are provided. Handle validation errors gracefully.\n",
        "\n",
        "Logging:\n",
        "\n",
        "Log errors for debugging and tracking application issues.\n",
        "\n",
        "Fallback Error Handling:\n",
        "\n",
        "Create a global error handler to catch unexpected exceptions and provide meaningful responses.\n",
        "\n",
        "Testing and Documentation:\n",
        "\n",
        "Test your API thoroughly to ensure all errors are handled properly and document them for API users."
      ],
      "metadata": {
        "id": "Aevhuothe88n"
      }
    },
    {
      "cell_type": "markdown",
      "source": [
        "10. How do you connect Flask to a SQL database?\n",
        "\n",
        "Ans:\n",
        "Connecting Flask to a SQL database involves using libraries like Flask-SQLAlchemy, which simplifies the interaction between Flask and SQL databases.\n",
        "Step by step explanation:\n",
        "Step 1: Install Flask-SQLAlchemy\n",
        "Step 2: Configure the Database\n",
        "Step 3: Define Models\n",
        "Step 4: Create the Database\n",
        "Step 5: Perform CRUD Operations"
      ],
      "metadata": {
        "id": "_XsTHfdsfdeD"
      }
    },
    {
      "cell_type": "markdown",
      "source": [
        "**11. What is the role of Flask-SQLAlchemy?**\n",
        "\n",
        "Ans:\n",
        "Flask-SQLAlchemy plays a crucial role in bridging the gap between Flask and SQL databases by providing an Object Relational Mapping (ORM) tool. It simplifies database interactions by allowing developers to work with Python objects instead of writing raw SQL queries."
      ],
      "metadata": {
        "id": "61T1WABJgSii"
      }
    },
    {
      "cell_type": "markdown",
      "source": [
        "**12.  What are Flask blueprints, and how are they useful?**\n",
        "\n",
        "Ans:\n",
        "Flask blueprints are a way to organize and modularize a Flask application by grouping related routes, templates, and static files together. They provide a structure that simplifies the management of large or complex applications by dividing them into smaller, reusable modules."
      ],
      "metadata": {
        "id": "EMSLjo8YghAk"
      }
    },
    {
      "cell_type": "markdown",
      "source": [
        "**13. What is the purpose of Flask's request object?**\n",
        "\n",
        "Ans:\n",
        "Flask's request object is an essential feature that allows developers to access and handle incoming HTTP requests sent by clients (such as browsers or APIs). It provides a convenient way to retrieve all the data associated with a request, enabling dynamic and interactive functionality in web applications."
      ],
      "metadata": {
        "id": "D_r9ZsPCg1Rh"
      }
    },
    {
      "cell_type": "markdown",
      "source": [
        "**14. How do you create a RESTful API endpoint using Flask?**\n",
        "\n",
        "Ans:\n",
        "Step 1: Install Flask:\n",
        "pip install flask\n",
        "\n",
        "Step 2: Set Up Flask Application:\n",
        "from flask import Flask, jsonify, request\n",
        "\n",
        "app = Flask(__name__)\n",
        "\n",
        "Step 3: Define the API Endpoint:\n",
        "@app.route('/api/users', methods=['GET'])\n",
        "def get_users():\n",
        "    users = [{\"id\": 1, \"name\": \"Abhinav\"}, {\"id\": 2, \"name\": \"John\"}]\n",
        "    return jsonify(users)\n",
        "\n",
        "Step 4: Handle Different HTTP Methods:\n",
        "@app.route('/api/users', methods=['POST'])\n",
        "def create_user():\n",
        "    data = request.get_json()  # Retrieve JSON data from the request\n",
        "    new_user = {\"id\": 3, \"name\": data['name']}\n",
        "    return jsonify(new_user), 201  # Return the created user with status code 201 (Created)\n",
        "\n",
        "Step 5: Run the Application:\n",
        "if __name__ == '__main__':\n",
        "    app.run(debug=True)\n",
        "\n",
        "Step 6: Test the Endpoint:\n",
        "python app.py\n",
        "\n",
        "Use tools like Postman or curl to test your API.\n"
      ],
      "metadata": {
        "id": "pM_viNBAhFg4"
      }
    },
    {
      "cell_type": "markdown",
      "source": [
        "15. What is the purpose of Flask's jsonify() function?\n",
        "\n",
        "Ans:\n",
        "The jsonify() function in Flask is used to create JSON responses for API endpoints. JSON (JavaScript Object Notation) is a widely-used format for data exchange between a server and a client, especially in RESTful APIs. The jsonify() function simplifies the process of converting Python objects into valid JSON responses."
      ],
      "metadata": {
        "id": "fwH7qK5liKJq"
      }
    },
    {
      "cell_type": "markdown",
      "source": [
        "**16. Explain Flask’s url_for() function.**\n",
        "\n",
        " Ans:\n",
        " Flask's url_for() function is a very handy utility that dynamically generates URLs for your application based on the name of a view function. Instead of hardcoding URLs, you can use url_for() to create URLs, making your code more flexible and maintainable.\n",
        " url_for() is a Flask tool that ensures your application is flexible, maintainable, and avoids the pitfalls of hardcoding URLs."
      ],
      "metadata": {
        "id": "fX2PgrKXiWNe"
      }
    },
    {
      "cell_type": "markdown",
      "source": [
        "**17. How does Flask handle static files (CSS, JavaScript, etc.)?**\n",
        "\n",
        "Ans:\n",
        "Flask handles static files by serving them from a special folder named static. Here's how it works:\n",
        "Static File Folder\n",
        "By default, Flask looks for a folder named static in the root of your application. This folder should contain all your static files, such as CSS, JavaScript, images, and fonts.\n",
        "Serving Static Files\n",
        "To serve a static file, you can use the url_for function and pass 'static' as the first argument, followed by the filename:\n",
        "\n",
        "from flask import url_for\n",
        "\n",
        "@app.route('/')\n",
        "def index():\n",
        "    return '<img src=\"' + url_for('static', filename='image.jpg') + '\">`\n",
        "\n",
        "Static File Routing\n",
        "Flask automatically adds a route for static files. By default, this route is /static/<filename>. You can change this route by using the static_url_path parameter when creating the Flask application:\n",
        "app = Flask(__name__, static_url_path='/assets')    "
      ],
      "metadata": {
        "id": "XL3nPlRei3Mh"
      }
    },
    {
      "cell_type": "markdown",
      "source": [
        "**18. How does Flask handle static files (CSS, JavaScript, etc.)?**\n",
        "\n",
        "Ans:\n",
        "Flask handles static files by serving them from a special folder named static. Here's how it works:\n",
        "Serving Static Files\n",
        "To serve a static file, you can use the url_for function and pass 'static' as the first argument, followed by the filename:\n",
        "\n",
        "from flask import url_for\n",
        "\n",
        "@app.route('/')\n",
        "def index():\n",
        "    return '<img src=\"' + url_for('static', filename='image.jpg') + '\">'\n",
        "\n",
        "Static File Folder Structure\n",
        "By default, Flask looks for a folder named static in the root of your application. This folder should contain all your static files, such as:\n",
        "\n",
        "/my_app\n",
        "    /static\n",
        "        /css\n",
        "        /js\n",
        "        /images\n",
        "        /fonts\n",
        "    /templates\n",
        "    app.py\n",
        "\n",
        "Custom Static Folder\n",
        "You can change the static folder by using the static_folder parameter when creating the Flask application:\n",
        "Python\n",
        "\n",
        "app = Flask(__name__, static_folder='assets')    \n",
        "\n",
        "Static File Routing\n",
        "Flask automatically adds a route for static files. By default, this route is /static/<filename>. You can change this route by using the static_url_path parameter when creating the Flask application:\n",
        "\n",
        "app = Flask(__name__, static_url_path='/assets')"
      ],
      "metadata": {
        "id": "77rHa9e9jub0"
      }
    },
    {
      "cell_type": "markdown",
      "source": [
        "**19. What are HTTP status codes, and why are they important in a Flask API?**\n",
        "\n",
        "Ans:\n",
        "HTTP status codes are standardized codes returned by a web server in response to a client's request. They are part of the HTTP protocol and provide a way to indicate the outcome of a request, such as success, failure, or redirection. In a Flask API, HTTP status codes are crucial for conveying the result of an operation and guiding the client on how to handle the response."
      ],
      "metadata": {
        "id": "wE_4ejQDk-Nr"
      }
    },
    {
      "cell_type": "markdown",
      "source": [
        "**20. How do you handle POST requests in Flask?**\n",
        "\n",
        "Ans:\n",
        "POST requests are commonly used to create or update resources in a web application. Here's how you can handle them step-by-step:\n",
        "\n",
        "Request Parsing: Use request.form, request.get_json(), or request.args depending on the type of data sent.\n",
        "\n",
        "Status Codes: Return appropriate HTTP status codes (e.g., 200 OK, 201 Created, 400 Bad Request) for better client-server communication.\n",
        "\n",
        "Security: Always validate input data to prevent errors or malicious requests.\n",
        "\n",
        "Testing Tools: Use tools like Postman or curl to test POST endpoints during development."
      ],
      "metadata": {
        "id": "e5qttPukr3-B"
      }
    },
    {
      "cell_type": "markdown",
      "source": [
        "**21. How would you secure a Flask API?**\n",
        "\n",
        "Ans:\n",
        "Securing a Flask API involves several steps to protect against common web vulnerabilities:\n",
        "1. Use HTTPS\n",
        "Generate an SSL/TLS certificate and configure your server to use HTTPS.\n",
        "Use a library like Flask-SSLify to force HTTPS.\n",
        "2. Authentication and Authorization\n",
        "Use a library like Flask-Login or Flask-Security to handle user authentication.\n",
        "Implement role-based access control (RBAC) to restrict access to sensitive routes.\n",
        "3. Input Validation and Sanitization\n",
        "Use libraries like WTForms or Cerberus to validate and sanitize user input.\n",
        "Protect against SQL injection and cross-site scripting (XSS) attacks.\n",
        "4. Error Handling and Logging\n",
        "Use a library like Flask-LogConfig to configure logging.\n",
        "Implement error handling to prevent sensitive information from being exposed.\n",
        "5. Rate Limiting and IP Blocking\n",
        "Use a library like Flask-Limiter to rate limit API requests.\n",
        "Implement IP blocking to prevent abuse.\n",
        "6. Security Headers\n",
        "Use a library like Flask-Security-Too to set security headers.\n",
        "Protect against clickjacking, XSS, and other attacks.\n",
        "7. Regular Security Audits\n",
        "Perform regular security audits using tools like OWASP ZAP.\n",
        "Stay up-to-date with the latest security patches and best practices."
      ],
      "metadata": {
        "id": "Lzyktcfmsa0f"
      }
    },
    {
      "cell_type": "markdown",
      "source": [
        "**22. What is the significance of the Flask-RESTful extension?**\n",
        "\n",
        "Ans:\n",
        "Significance of the Flask-RESTful extension:\n",
        "\n",
        "Simplifies API development: Flask-RESTful simplifies the process of building RESTful APIs by providing a simple and consistent way to define resources and routes.\n",
        "\n",
        "Improves code organization: The extension promotes code organization by encouraging developers to separate their API logic into distinct resources.\n",
        "\n",
        "Enhances API maintainability: Flask-RESTful makes it easier to maintain and update APIs by providing a clear and consistent structure for API code.\n",
        "\n",
        "Supports industry-standard API design:\n",
        "\n",
        "The extension supports industry-standard API design principles, making it easier to build APIs that are consistent with industry norms."
      ],
      "metadata": {
        "id": "lwAirvUbsz20"
      }
    },
    {
      "cell_type": "markdown",
      "source": [
        "**23. What is the role of Flask’s session object?**\n",
        "\n",
        "Ans:\n",
        "The Flask session object plays a key role in managing user sessions. It allows you to store information about a user across multiple requests, making it particularly useful for applications that require user authentication or personalized user experiences."
      ],
      "metadata": {
        "id": "2uwsLm3kttN9"
      }
    },
    {
      "cell_type": "markdown",
      "source": [
        "**Practical**"
      ],
      "metadata": {
        "id": "3WcA9da5ufpc"
      }
    },
    {
      "cell_type": "markdown",
      "source": [
        "**1. How do you create a basic Flask application?**\n",
        "\n",
        "Ans:"
      ],
      "metadata": {
        "id": "MKZxzBmDuiAq"
      }
    },
    {
      "cell_type": "code",
      "source": [
        "from flask import Flask\n",
        "\n",
        "# Create the Flask application instance\n",
        "app = Flask(__name__)\n",
        "\n",
        "@app.route('/')\n",
        "def home():\n",
        "    return \"Welcome to your first Flask application!\"\n",
        "\n",
        "if __name__ == '__main__':\n",
        "    app.run(debug=True)"
      ],
      "metadata": {
        "id": "W0UL71bJyYiw"
      },
      "execution_count": null,
      "outputs": []
    },
    {
      "cell_type": "markdown",
      "source": [
        "**2. How do you serve static files like images or CSS in Flask?**\n",
        "\n",
        "Ans:"
      ],
      "metadata": {
        "id": "Ft0YtJsBvrts"
      }
    },
    {
      "cell_type": "code",
      "source": [
        "from flask import Flask\n",
        "\n",
        "app = Flask(__name__)\n",
        "\n",
        "@app.route('/')\n",
        "def home():\n",
        "    return '''\n",
        "    <!DOCTYPE html>\n",
        "    <html>\n",
        "    <head>\n",
        "        <link rel=\"stylesheet\" href=\"/static/styles.css\">\n",
        "    </head>\n",
        "    <body>\n",
        "        <h1>Welcome to Flask!</h1>\n",
        "        <img src=\"/static/image.jpg\" alt=\"Sample Image\">\n",
        "    </body>\n",
        "    </html>\n",
        "    '''\n",
        "\n",
        "if __name__ == '__main__':\n",
        "    app.run(debug=True)\n"
      ],
      "metadata": {
        "id": "fpzK0V9Hyc3l"
      },
      "execution_count": null,
      "outputs": []
    },
    {
      "cell_type": "markdown",
      "source": [
        "**3. How do you define different routes with different HTTP methods in Flask?**\n",
        "\n",
        "Ans:"
      ],
      "metadata": {
        "id": "gVE0zZbEyfVH"
      }
    },
    {
      "cell_type": "code",
      "source": [
        "from flask import Flask, request, jsonify\n",
        "\n",
        "app = Flask(__name__)\n",
        "\n",
        "@app.route('/get-example', methods=['GET'])\n",
        "def get_example():\n",
        "    return jsonify({\"message\": \"This is a GET request!\"})\n",
        "\n",
        "@app.route('/post-example', methods=['POST'])\n",
        "def post_example():\n",
        "    data = request.get_json()\n",
        "    return jsonify({\"received_data\": data})\n",
        "\n",
        "@app.route('/mixed-example', methods=['GET', 'POST'])\n",
        "def mixed_example():\n",
        "    if request.method == 'GET':\n",
        "        return jsonify({\"message\": \"You made a GET request!\"})\n",
        "    elif request.method == 'POST':\n",
        "        data = request.get_json()\n",
        "        return jsonify({\"message\": \"You made a POST request!\", \"received_data\": data})\n",
        "\n",
        "if __name__ == '__main__':\n",
        "    app.run(debug=True)\n"
      ],
      "metadata": {
        "id": "vFbeZiXgyzHq"
      },
      "execution_count": null,
      "outputs": []
    },
    {
      "cell_type": "markdown",
      "source": [
        "**4. How do you render HTML templates in Flask?**\n",
        "\n",
        "Ans:"
      ],
      "metadata": {
        "id": "vy0CzNaSy8NW"
      }
    },
    {
      "cell_type": "code",
      "source": [
        "from flask import Flask, render_template\n",
        "\n",
        "app = Flask(__name__)\n",
        "\n",
        "@app.route('/')\n",
        "def home():\n",
        "    return render_template('home.html')  # Render the 'home.html' template\n",
        "\n",
        "if __name__ == '__main__':\n",
        "    app.run(debug=True)"
      ],
      "metadata": {
        "id": "QQhqvnAzzVRS"
      },
      "execution_count": null,
      "outputs": []
    },
    {
      "cell_type": "markdown",
      "source": [
        "Directory Structure:"
      ],
      "metadata": {
        "id": "mhzTeEc203v1"
      }
    },
    {
      "cell_type": "markdown",
      "source": [
        "project/\n",
        "├── app.py\n",
        "├── templates/\n",
        "│   ├── home.html\n"
      ],
      "metadata": {
        "id": "bpqwOjNS0x46"
      }
    },
    {
      "cell_type": "code",
      "source": [
        "#Example home.html:\n",
        "#Creating a file named home.html inside the templates folder:\n",
        "\n",
        "<!DOCTYPE html>\n",
        "<html>\n",
        "<head>\n",
        "    <title>Flask App</title>\n",
        "</head>\n",
        "<body>\n",
        "    <h1>Welcome to Flask!</h1>\n",
        "</body>\n",
        "</html>\n"
      ],
      "metadata": {
        "id": "kc9lUTxN83x0"
      },
      "execution_count": null,
      "outputs": []
    },
    {
      "cell_type": "markdown",
      "source": [
        "**5. How can you generate URLs for routes in Flask using url_for?**\n",
        "\n",
        "Ans:"
      ],
      "metadata": {
        "id": "4OSwzcH1zknS"
      }
    },
    {
      "cell_type": "code",
      "source": [
        "from flask import Flask, url_for\n",
        "\n",
        "app = Flask(__name__)\n",
        "\n",
        "@app.route('/')\n",
        "def home():\n",
        "    return \"Welcome to the Home Page!\"\n",
        "\n",
        "# Define a route for the about page\n",
        "@app.route('/about')\n",
        "def about():\n",
        "    return \"This is the About Page!\"\n",
        "\n",
        "# Define a route for generating URLs\n",
        "@app.route('/generate-urls')\n",
        "def generate_urls():\n",
        "    home_url = url_for('home')\n",
        "    about_url = url_for('about')\n",
        "    return f\"Home URL: {home_url}, About URL: {about_url}\"\n",
        "\n",
        "if __name__ == '__main__':\n",
        "    app.run(debug=True)\n"
      ],
      "metadata": {
        "id": "jbJx8Fzyz_9j"
      },
      "execution_count": null,
      "outputs": []
    },
    {
      "cell_type": "markdown",
      "source": [
        "**6. How do you handle forms in Flask?**\n",
        "\n",
        "Ans:"
      ],
      "metadata": {
        "id": "X6XEi2PE0Jwj"
      }
    },
    {
      "cell_type": "code",
      "source": [
        "from flask import Flask, render_template, request\n",
        "\n",
        "app = Flask(__name__)\n",
        "\n",
        "@app.route('/')\n",
        "def index():\n",
        "    return render_template('form.html')  # Render the form template\n",
        "\n",
        "@app.route('/submit', methods=['POST'])\n",
        "def submit():\n",
        "    # Get form data from the request\n",
        "    name = request.form.get('name')\n",
        "    age = request.form.get('age')\n",
        "    return f\"Name: {name}, Age: {age}\"\n",
        "\n",
        "if __name__ == '__main__':\n",
        "    app.run(debug=True)\n"
      ],
      "metadata": {
        "id": "eUQfXLh50WSg"
      },
      "execution_count": null,
      "outputs": []
    },
    {
      "cell_type": "markdown",
      "source": [
        "Directory Structure:\n",
        "Ensure you have the following structure with an HTML form in form.html:\n",
        "project/\n",
        "├── app.py\n",
        "├── templates/\n",
        "│   ├── form.html"
      ],
      "metadata": {
        "id": "FZwhar0s0ePP"
      }
    },
    {
      "cell_type": "code",
      "source": [
        "#Example home.html:\n",
        "#Creating a file named home.html inside the templates folder:\n",
        "# html code\n",
        "<!DOCTYPE html>\n",
        "<html>\n",
        "<head>\n",
        "    <title>Flask App</title>\n",
        "</head>\n",
        "<body>\n",
        "    <h1>Welcome to Flask!</h1>\n",
        "</body>\n",
        "</html>\n"
      ],
      "metadata": {
        "id": "d6Q46irC9OWS"
      },
      "execution_count": null,
      "outputs": []
    },
    {
      "cell_type": "markdown",
      "source": [
        "**7. How can you validate form data in Flask?**\n",
        "\n",
        "Ans:"
      ],
      "metadata": {
        "id": "Lf_qBHfM1zhw"
      }
    },
    {
      "cell_type": "code",
      "source": [
        "from flask import Flask, render_template, request\n",
        "from flask_wtf import FlaskForm\n",
        "from wtforms import StringField, IntegerField\n",
        "from wtforms.validators import DataRequired, Length, NumberRange\n",
        "\n",
        "app = Flask(__name__)\n",
        "app.secret_key = 'your_secret_key'  # Required for CSRF protection\n",
        "\n",
        "# Define a form class with validation rules\n",
        "class MyForm(FlaskForm):\n",
        "    name = StringField('Name', validators=[DataRequired(), Length(min=2, max=50)])\n",
        "    age = IntegerField('Age', validators=[DataRequired(), NumberRange(min=1, max=120)])\n",
        "\n",
        "@app.route('/', methods=['GET', 'POST'])\n",
        "def index():\n",
        "    form = MyForm()\n",
        "    if request.method == 'POST' and form.validate_on_submit():\n",
        "        name = form.name.data\n",
        "        age = form.age.data\n",
        "        return f\"Name: {name}, Age: {age}\"\n",
        "    return render_template('form.html', form=form)\n",
        "\n",
        "if __name__ == '__main__':\n",
        "    app.run(debug=True)\n"
      ],
      "metadata": {
        "id": "LHomJ43Q1_5a"
      },
      "execution_count": null,
      "outputs": []
    },
    {
      "cell_type": "markdown",
      "source": [
        "Directory Structure:\n",
        "project/\n",
        "├── app.py\n",
        "├── templates/\n",
        "│   ├── form.html\n"
      ],
      "metadata": {
        "id": "XXOXTs9r-gwg"
      }
    },
    {
      "cell_type": "code",
      "source": [
        "\n",
        "#html:\n",
        "<!DOCTYPE html>\n",
        "<html>\n",
        "<head>\n",
        "    <title>Form Validation</title>\n",
        "</head>\n",
        "<body>\n",
        "    <h1>Enter Your Details</h1>\n",
        "    <form method=\"POST\">\n",
        "        {{ form.hidden_tag() }}  <!-- For CSRF protection -->\n",
        "        <label>Name:</label> {{ form.name(size=20) }} <br>\n",
        "        <label>Age:</label> {{ form.age(size=20) }} <br>\n",
        "        <button type=\"submit\">Submit</button>\n",
        "    </form>\n",
        "    {% if form.errors %}\n",
        "        <ul>\n",
        "            {% for field, errors in form.errors.items() %}\n",
        "                {% for error in errors %}\n",
        "                    <li>{{ field }}: {{ error }}</li>\n",
        "                {% endfor %}\n",
        "            {% endfor %}\n",
        "        </ul>\n",
        "    {% endif %}\n",
        "</body>\n",
        "</html>\n"
      ],
      "metadata": {
        "id": "TNwGXKpO9bjE"
      },
      "execution_count": null,
      "outputs": []
    },
    {
      "cell_type": "markdown",
      "source": [
        "**8. How do you manage sessions in Flask?**\n",
        "\n",
        "Ans:"
      ],
      "metadata": {
        "id": "Nv2GSYCy2PwR"
      }
    },
    {
      "cell_type": "code",
      "source": [
        "from flask import Flask, session, redirect, url_for, request\n",
        "\n",
        "app = Flask(__name__)\n",
        "app.secret_key = 'your_secret_key'\n",
        "\n",
        "@app.route('/')\n",
        "def home():\n",
        "\n",
        "    username = session.get('username')\n",
        "    if username:\n",
        "        return f\"Welcome back, {username}!\"\n",
        "    return \"Welcome to the Home Page! Please log in.\"\n",
        "\n",
        "@app.route('/login', methods=['GET', 'POST'])\n",
        "def login():\n",
        "    if request.method == 'POST':\n",
        "        session['username'] = request.form['username']\n",
        "        return redirect(url_for('home'))\n",
        "    return '''\n",
        "    <form method=\"POST\">\n",
        "        <label>Username:</label>\n",
        "        <input type=\"text\" name=\"username\">\n",
        "        <button type=\"submit\">Log In</button>\n",
        "    </form>\n",
        "    '''\n",
        "\n",
        "@app.route('/logout')\n",
        "def logout():\n",
        "    session.pop('username', None)\n",
        "    return \"Logged out! <a href='/'>Return Home</a>\"\n",
        "\n",
        "if __name__ == '__main__':\n",
        "    app.run(debug=True)\n"
      ],
      "metadata": {
        "id": "Wsg49NDx2bOL"
      },
      "execution_count": null,
      "outputs": []
    },
    {
      "cell_type": "markdown",
      "source": [
        "9. How do you redirect to a different route in Flask?"
      ],
      "metadata": {
        "id": "-_h2kR6O2jO9"
      }
    },
    {
      "cell_type": "code",
      "source": [
        "from flask import Flask, redirect, url_for\n",
        "\n",
        "app = Flask(__name__)\n",
        "\n",
        "@app.route('/')\n",
        "def home():\n",
        "    return \"Welcome to the Home Page!\"\n",
        "\n",
        "@app.route('/login')\n",
        "def login():\n",
        "    return \"This is the Login Page!\"\n",
        "\n",
        "@app.route('/redirect-example')\n",
        "def redirect_example():\n",
        "    return redirect(url_for('login'))\n",
        "if __name__ == '__main__':\n",
        "    app.run(debug=True)\n"
      ],
      "metadata": {
        "id": "19l0Bkev2uLd"
      },
      "execution_count": null,
      "outputs": []
    },
    {
      "cell_type": "markdown",
      "source": [
        "**10. How do you handle errors in Flask (e.g., 404)?**\n",
        "\n",
        "Ans:"
      ],
      "metadata": {
        "id": "J-KKJXQ02w7K"
      }
    },
    {
      "cell_type": "code",
      "source": [
        "from flask import Flask, jsonify\n",
        "\n",
        "app = Flask(__name__)\n",
        "\n",
        "@app.route('/')\n",
        "def home():\n",
        "    return \"Welcome to the Home Page!\"\n",
        "\n",
        "# Custom error handler for 404 errors\n",
        "@app.errorhandler(404)\n",
        "def not_found_error(e):\n",
        "    return jsonify({\"error\": \"Resource not found\"}), 404\n",
        "\n",
        "if __name__ == '__main__':\n",
        "    app.run(debug=True)\n"
      ],
      "metadata": {
        "id": "qsnTF3JW279y"
      },
      "execution_count": null,
      "outputs": []
    },
    {
      "cell_type": "markdown",
      "source": [
        "**11. How do you structure a Flask app using Blueprints?**\n",
        "\n",
        "Ans:"
      ],
      "metadata": {
        "id": "VLEjUWkK3HtB"
      }
    },
    {
      "cell_type": "code",
      "source": [
        "# Main application (app.py)\n",
        "from flask import Flask\n",
        "from user.routes import user_bp\n",
        "from product.routes import product_bp\n",
        "\n",
        "app = Flask(__name__)\n",
        "\n",
        "# Register Blueprints\n",
        "app.register_blueprint(user_bp, url_prefix='/user')\n",
        "app.register_blueprint(product_bp, url_prefix='/product')\n",
        "\n",
        "@app.route('/')\n",
        "def home():\n",
        "    return \"Welcome to the main app!\"\n",
        "\n",
        "if __name__ == '__main__':\n",
        "    app.run(debug=True)\n"
      ],
      "metadata": {
        "id": "hG2gi-zr3dTj"
      },
      "execution_count": null,
      "outputs": []
    },
    {
      "cell_type": "markdown",
      "source": [
        "Directory Structure:\n",
        "project/\n",
        "├── app.py\n",
        "├── user/\n",
        "│   ├── routes.py\n",
        "│   ├── __init__.py\n",
        "├── product/\n",
        "│   ├── routes.py\n",
        "│   ├── __init__.py\n"
      ],
      "metadata": {
        "id": "TDK47j483jp8"
      }
    },
    {
      "cell_type": "markdown",
      "source": [
        "User Blueprint (user/routes.py):"
      ],
      "metadata": {
        "id": "Om0CxSFS3ntW"
      }
    },
    {
      "cell_type": "code",
      "source": [
        "from flask import Blueprint\n",
        "\n",
        "user_bp = Blueprint('user', __name__)\n",
        "\n",
        "@user_bp.route('/profile')\n",
        "def profile():\n",
        "    return \"User Profile Page\"\n"
      ],
      "metadata": {
        "id": "3P0aq-QW3oqM"
      },
      "execution_count": null,
      "outputs": []
    },
    {
      "cell_type": "markdown",
      "source": [
        "Product Blueprint (product/routes.py):"
      ],
      "metadata": {
        "id": "eJGurizG3vXW"
      }
    },
    {
      "cell_type": "code",
      "source": [
        "from flask import Blueprint\n",
        "\n",
        "product_bp = Blueprint('product', __name__)\n",
        "\n",
        "@product_bp.route('/list')\n",
        "def product_list():\n",
        "    return \"Product List Page\"\n"
      ],
      "metadata": {
        "id": "c3wXUAEb3wiN"
      },
      "execution_count": null,
      "outputs": []
    },
    {
      "cell_type": "markdown",
      "source": [
        "**12. How do you define a custom Jinja filter in Flask?**"
      ],
      "metadata": {
        "id": "8bHL7DSC30b3"
      }
    },
    {
      "cell_type": "code",
      "source": [
        "from flask import Flask, render_template\n",
        "\n",
        "app = Flask(__name__)\n",
        "\n",
        "def reverse_string(s):\n",
        "    return s[::-1]\n",
        "\n",
        "app.jinja_env.filters['reverse'] = reverse_string\n",
        "\n",
        "@app.route('/')\n",
        "def index():\n",
        "    return render_template('index.html')\n",
        "\n",
        "if __name__ == '__main__':\n",
        "    app.run(debug=True)\n"
      ],
      "metadata": {
        "id": "KLW0AQ0o3_Yj"
      },
      "execution_count": null,
      "outputs": []
    },
    {
      "cell_type": "code",
      "source": [
        "#html code\n",
        "#Create a file named index.html inside the templates folder:\n",
        "<!DOCTYPE html>\n",
        "<html>\n",
        "<head>\n",
        "    <title>Custom Jinja Filter</title>\n",
        "</head>\n",
        "<body>\n",
        "    <h1>Custom Jinja Filter Example</h1>\n",
        "    <p>Original: Hello Flask</p>\n",
        "    <p>Reversed: {{ \"Hello Flask\" | reverse }}</p>\n",
        "</body>\n",
        "</html>"
      ],
      "metadata": {
        "id": "6dnoV5Ej91wK"
      },
      "execution_count": null,
      "outputs": []
    },
    {
      "cell_type": "markdown",
      "source": [
        "**13. How can you redirect with query parameters in Flask?**"
      ],
      "metadata": {
        "id": "zu-lcUuL4TQd"
      }
    },
    {
      "cell_type": "code",
      "source": [
        "from flask import Flask, redirect, url_for, request\n",
        "\n",
        "app = Flask(__name__)\n",
        "\n",
        "@app.route('/')\n",
        "def home():\n",
        "    return \"Welcome to the Home Page!\"\n",
        "\n",
        "@app.route('/redirect-example')\n",
        "def redirect_example():\n",
        "    # Redirect to the 'target' route with query parameters\n",
        "    return redirect(url_for('target', name='Abhinav', age=25))\n",
        "\n",
        "@app.route('/target')\n",
        "def target():\n",
        "    # Retrieve query parameters\n",
        "    name = request.args.get('name')\n",
        "    age = request.args.get('age')\n",
        "    return f\"Redirected with query parameters - Name: {name}, Age: {age}\"\n",
        "\n",
        "if __name__ == '__main__':\n",
        "    app.run(debug=True)\n"
      ],
      "metadata": {
        "id": "bhRcLdbW4e_e"
      },
      "execution_count": null,
      "outputs": []
    },
    {
      "cell_type": "markdown",
      "source": [
        "**14. How do you return JSON responses in Flask?**\n",
        "\n",
        "Ans:"
      ],
      "metadata": {
        "id": "RA-vPJW-4g4V"
      }
    },
    {
      "cell_type": "code",
      "source": [
        "from flask import Flask, jsonify\n",
        "\n",
        "app = Flask(__name__)\n",
        "\n",
        "@app.route('/api/data')\n",
        "def get_data():\n",
        "    # Create a dictionary to represent the data\n",
        "    data = {\n",
        "        \"name\": \"Abhinav\",\n",
        "        \"age\": 25,\n",
        "        \"location\": \"Phoolpur, Uttar Pradesh, India\"\n",
        "    }\n",
        "    # Return the dictionary as a JSON response\n",
        "    return jsonify(data)\n",
        "\n",
        "if __name__ == '__main__':\n",
        "    app.run(debug=True)\n",
        "\n"
      ],
      "metadata": {
        "id": "uROwl1Sc4scX"
      },
      "execution_count": null,
      "outputs": []
    },
    {
      "cell_type": "markdown",
      "source": [
        "Json:\n",
        "{\n",
        "    \"name\": \"Abhinav\",\n",
        "    \"age\": 25,\n",
        "    \"location\": \"Phoolpur, Uttar Pradesh, India\"\n",
        "}\n"
      ],
      "metadata": {
        "id": "5pVmSs_M43uk"
      }
    },
    {
      "cell_type": "markdown",
      "source": [
        "**15. How do you capture URL parameters in Flask?**\n",
        "\n",
        "Ans:"
      ],
      "metadata": {
        "id": "yEaz78qf4_Mx"
      }
    },
    {
      "cell_type": "code",
      "source": [
        "from flask import Flask\n",
        "\n",
        "app = Flask(__name__)\n",
        "\n",
        "@app.route('/user/<username>')\n",
        "def show_user(username):\n",
        "    return f\"Hello, {username}!\"\n",
        "\n",
        "@app.route('/post/<int:post_id>')\n",
        "def show_post(post_id):\n",
        "    return f\"Post ID: {post_id}\"\n",
        "\n",
        "if __name__ == '__main__':\n",
        "    app.run(debug=True)\n"
      ],
      "metadata": {
        "id": "tU_qISfm5M21"
      },
      "execution_count": null,
      "outputs": []
    }
  ]
}